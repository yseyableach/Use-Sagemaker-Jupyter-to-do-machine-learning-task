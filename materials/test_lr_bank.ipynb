{
 "cells": [
  {
   "cell_type": "code",
   "execution_count": 38,
   "id": "stainless-recall",
   "metadata": {
    "scrolled": true
   },
   "outputs": [
    {
     "data": {
      "text/plain": [
       "'\\nor you can write like this \\ninitial_df = pd.read_csv(\"s3://nl12/banking.csv\")\\n'"
      ]
     },
     "execution_count": 38,
     "metadata": {},
     "output_type": "execute_result"
    }
   ],
   "source": [
    "import pandas as pd \n",
    "import boto3\n",
    "import io\n",
    "#s3_file_key = 'data/test.csv'\n",
    "bucket_name = 'piyeanxia'\n",
    "s3 = boto3.client('s3')\n",
    "obj = s3.get_object(Bucket=bucket_name, Key='banking.csv')\n",
    "initial_df = pd.read_csv(io.BytesIO(obj['Body'].read()))\n",
    "'''\n",
    "or you can write like this \n",
    "initial_df = pd.read_csv(\"s3://nl12/banking.csv\")\n",
    "'''"
   ]
  },
  {
   "cell_type": "code",
   "execution_count": 39,
   "id": "developed-preview",
   "metadata": {},
   "outputs": [],
   "source": [
    "#X = (initial_df.drop(['y'], axis=1)).fillna(0)\n",
    "def transform_MultipleColumns_to_LabelEncoder_in_DataFrame(df):\n",
    "    objList = df.select_dtypes(include = \"object\").columns #拿出為object的columns\n",
    "    #print (objList)\n",
    "    #Label Encoding for object to numeric conversion\n",
    "    from sklearn.preprocessing import LabelEncoder\n",
    "    le = LabelEncoder()\n",
    "    for feat in objList:\n",
    "        df[feat] = le.fit_transform(df[feat].astype(str))  #在一個個做labelcndoer\n",
    "    #print (X.info())\n",
    "    return df\n",
    "\n",
    "X = transform_MultipleColumns_to_LabelEncoder_in_DataFrame((initial_df.drop(['y'], axis=1)).fillna(0))\n",
    "y = initial_df['y']\n",
    "#split to train and test \n",
    "from sklearn.model_selection import train_test_split\n",
    "X_train, X_test, y_train, y_test = train_test_split(X, y, test_size=0.33, random_state=42)"
   ]
  },
  {
   "cell_type": "code",
   "execution_count": 40,
   "id": "short-remark",
   "metadata": {},
   "outputs": [
    {
     "name": "stderr",
     "output_type": "stream",
     "text": [
      "/home/ec2-user/anaconda3/envs/amazonei_mxnet_p36/lib/python3.6/site-packages/sklearn/linear_model/_logistic.py:765: ConvergenceWarning: lbfgs failed to converge (status=1):\n",
      "STOP: TOTAL NO. of ITERATIONS REACHED LIMIT.\n",
      "\n",
      "Increase the number of iterations (max_iter) or scale the data as shown in:\n",
      "    https://scikit-learn.org/stable/modules/preprocessing.html\n",
      "Please also refer to the documentation for alternative solver options:\n",
      "    https://scikit-learn.org/stable/modules/linear_model.html#logistic-regression\n",
      "  extra_warning_msg=_LOGISTIC_SOLVER_CONVERGENCE_MSG)\n"
     ]
    }
   ],
   "source": [
    "from sklearn.linear_model import LogisticRegression\n",
    "clf = LogisticRegression(random_state=0).fit(X_train, y_train)"
   ]
  },
  {
   "cell_type": "code",
   "execution_count": 41,
   "id": "chemical-picture",
   "metadata": {},
   "outputs": [
    {
     "name": "stdout",
     "output_type": "stream",
     "text": [
      "              precision    recall  f1-score   support\n",
      "\n",
      "     class 0       0.93      0.97      0.95     12034\n",
      "     class 1       0.63      0.41      0.50      1559\n",
      "\n",
      "    accuracy                           0.90     13593\n",
      "   macro avg       0.78      0.69      0.72     13593\n",
      "weighted avg       0.89      0.90      0.90     13593\n",
      "\n"
     ]
    }
   ],
   "source": [
    "y_pred = clf.predict(X_test)\n",
    "from sklearn.metrics import classification_report\n",
    "target_names = ['class 0', 'class 1']\n",
    "print(classification_report(y_test.values, y_pred, target_names=target_names))"
   ]
  },
  {
   "cell_type": "code",
   "execution_count": 42,
   "id": "caring-switzerland",
   "metadata": {},
   "outputs": [],
   "source": [
    "new_result = pd.concat([X_test,y_test],axis=1)\n",
    "new_result.insert((len(new_result.columns)), \"predict\", y_pred , True) "
   ]
  },
  {
   "cell_type": "code",
   "execution_count": 43,
   "id": "tough-front",
   "metadata": {},
   "outputs": [
    {
     "name": "stdout",
     "output_type": "stream",
     "text": [
      "<class 'str'>\n"
     ]
    }
   ],
   "source": [
    "location =\"s3://\"+bucket_name+\"/new.csv\"\n",
    "new_result.to_csv(location, index=False)\n",
    "print(type(location))"
   ]
  },
  {
   "cell_type": "code",
   "execution_count": null,
   "id": "difficult-overview",
   "metadata": {},
   "outputs": [],
   "source": []
  }
 ],
 "metadata": {
  "kernelspec": {
   "display_name": "conda_amazonei_mxnet_p36",
   "language": "python",
   "name": "conda_amazonei_mxnet_p36"
  },
  "language_info": {
   "codemirror_mode": {
    "name": "ipython",
    "version": 3
   },
   "file_extension": ".py",
   "mimetype": "text/x-python",
   "name": "python",
   "nbconvert_exporter": "python",
   "pygments_lexer": "ipython3",
   "version": "3.6.13"
  }
 },
 "nbformat": 4,
 "nbformat_minor": 5
}
